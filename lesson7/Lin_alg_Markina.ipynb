{
 "cells": [
  {
   "cell_type": "code",
   "execution_count": 103,
   "id": "5f35c302",
   "metadata": {},
   "outputs": [],
   "source": [
    "import numpy as np\n",
    "from mpl_toolkits.mplot3d import Axes3D\n",
    "import matplotlib.pyplot as plt\n",
    "import warnings\n",
    "warnings.filterwarnings('ignore')"
   ]
  },
  {
   "cell_type": "markdown",
   "id": "8dac0d85",
   "metadata": {},
   "source": [
    "#### Файл №1. Задание 1"
   ]
  },
  {
   "cell_type": "code",
   "execution_count": 6,
   "id": "901125f3",
   "metadata": {},
   "outputs": [
    {
     "name": "stdout",
     "output_type": "stream",
     "text": [
      "[1. 3. 4.]\n",
      "[[ 6.]\n",
      " [-7.]\n",
      " [10.]]\n",
      "4.0    -7.0\n",
      "(3,) (3, 1)\n"
     ]
    }
   ],
   "source": [
    "v1 = np.array([1, 3, 4], float)\n",
    "v2 = np.array([[6], [-7], [10]], float)\n",
    "print(v1)\n",
    "print(v2)\n",
    "print(v1[2], v2[1, 0], sep='    ')\n",
    "print(v1.shape, v2.shape)"
   ]
  },
  {
   "cell_type": "code",
   "execution_count": 7,
   "id": "b5f48985",
   "metadata": {},
   "outputs": [
    {
     "name": "stdout",
     "output_type": "stream",
     "text": [
      "[ 3.  9. 12.]\n",
      "[[-12.]\n",
      " [ 14.]\n",
      " [-20.]]\n"
     ]
    }
   ],
   "source": [
    "a1 = v1 * 3\n",
    "print(a1)\n",
    "a2 = v2 * (-2)\n",
    "print(a2)"
   ]
  },
  {
   "cell_type": "code",
   "execution_count": 8,
   "id": "01048598",
   "metadata": {},
   "outputs": [
    {
     "name": "stdout",
     "output_type": "stream",
     "text": [
      "[3. 5. 6.]\n",
      "[[  2.]\n",
      " [-11.]\n",
      " [  6.]]\n"
     ]
    }
   ],
   "source": [
    "b1 = v1 + 2\n",
    "print(b1)\n",
    "b2 = v2 - 4\n",
    "print(b2) "
   ]
  },
  {
   "cell_type": "code",
   "execution_count": 14,
   "id": "b6c4e606",
   "metadata": {},
   "outputs": [
    {
     "name": "stdout",
     "output_type": "stream",
     "text": [
      "[ 2. -2. 16.]\n",
      "[[ 2.]\n",
      " [16.]\n",
      " [11.]]\n"
     ]
    }
   ],
   "source": [
    "c1 = np.array([1, -5, 12])\n",
    "c2 = np.array([[-4], [23], [1]])\n",
    "d1 = np.add(v1, c1)\n",
    "print(d1)\n",
    "d2 = np.add(v2, c2)\n",
    "print(d2)"
   ]
  },
  {
   "cell_type": "code",
   "execution_count": 15,
   "id": "65558d7d",
   "metadata": {
    "scrolled": true
   },
   "outputs": [
    {
     "name": "stdout",
     "output_type": "stream",
     "text": [
      "[ 0.  8. -8.]\n",
      "[[ 10.]\n",
      " [-30.]\n",
      " [  9.]]\n"
     ]
    }
   ],
   "source": [
    "e1 = np.subtract(v1, c1)\n",
    "print(e1)\n",
    "e2 = np.subtract(v2, c2)\n",
    "e1 = np.subtract(v1, c1)\n",
    "print(e2)"
   ]
  },
  {
   "cell_type": "code",
   "execution_count": 17,
   "id": "c2efcb6b",
   "metadata": {
    "scrolled": true
   },
   "outputs": [
    {
     "name": "stdout",
     "output_type": "stream",
     "text": [
      "[1. 3. 4.]\n",
      "[[ 6. -7. 10.]]\n"
     ]
    }
   ],
   "source": [
    "t1 = v1.transpose()\n",
    "print(t1)\n",
    "t2 = v2.transpose()\n",
    "print(t2)"
   ]
  },
  {
   "cell_type": "code",
   "execution_count": 21,
   "id": "da115596",
   "metadata": {
    "scrolled": true
   },
   "outputs": [
    {
     "name": "stdout",
     "output_type": "stream",
     "text": [
      "[25.]\n"
     ]
    }
   ],
   "source": [
    "g = np.dot(v1, v2)\n",
    "print(g)"
   ]
  },
  {
   "cell_type": "markdown",
   "id": "f5979732",
   "metadata": {},
   "source": [
    "##### Файл №2\n",
    "#### Задание 1"
   ]
  },
  {
   "cell_type": "code",
   "execution_count": 24,
   "id": "051e5fff",
   "metadata": {},
   "outputs": [
    {
     "data": {
      "text/plain": [
       "array([-9.2       ,  0.9       ,  6.46666667])"
      ]
     },
     "execution_count": 24,
     "metadata": {},
     "output_type": "execute_result"
    }
   ],
   "source": [
    "A = np.array([[1, 2, 3], [4, 0, 6], [7, 8, 9]])\n",
    "B = np.array([12, 2, 1])\n",
    "np.linalg.solve(A, B) "
   ]
  },
  {
   "cell_type": "markdown",
   "id": "abac910e",
   "metadata": {},
   "source": [
    "#### Задание_2\n",
    "\n",
    "#### x + 2y – z = 1\n",
    "#### 3x – 4y = 7\n",
    "#### 8x – 5y + 2z = 12\n",
    "#### 2x – 5z = 7\n",
    "#### 11x +4y – 7z = 15"
   ]
  },
  {
   "cell_type": "code",
   "execution_count": 29,
   "id": "39ee8d59",
   "metadata": {
    "scrolled": true
   },
   "outputs": [
    {
     "data": {
      "text/plain": [
       "(array([ 1.13919353, -0.90498444, -0.9009803 ]),\n",
       " array([0.71523211]),\n",
       " 3,\n",
       " array([15.2817306 ,  9.59852942,  3.65197794]))"
      ]
     },
     "execution_count": 29,
     "metadata": {},
     "output_type": "execute_result"
    }
   ],
   "source": [
    "A = np.array([[1, 2, -1], [3, -4, 0], [8, -5, 2], [2, 0, -5], [11, 4, -7]])\n",
    "B = np.array([1, 7, 12, 7, 15])\n",
    "np.linalg.lstsq(A, B, rcond=None)"
   ]
  },
  {
   "cell_type": "markdown",
   "id": "7bbbd8fb",
   "metadata": {},
   "source": [
    "#### Задание 3"
   ]
  },
  {
   "cell_type": "code",
   "execution_count": 56,
   "id": "99009a76",
   "metadata": {
    "scrolled": true
   },
   "outputs": [
    {
     "name": "stdout",
     "output_type": "stream",
     "text": [
      "[[ 1  2  3 12]\n",
      " [ 4  5  6  2]\n",
      " [ 7  8  9  1]]\n",
      "2 3\n",
      "[-18.  27.  -8.]\n"
     ]
    }
   ],
   "source": [
    "A = np.array([[1, 2, 3], [4, 5, 6], [7, 8, 9]])\n",
    "B = np.array([[12, 2, 1]])\n",
    "C = np.concatenate((A,B.T), axis=1)\n",
    "print(C)\n",
    "print(np.linalg.matrix_rank(A), np.linalg.matrix_rank(C))\n",
    "\n",
    "# Данная система не имеет решений, потому что является не совместной (так как ранг матрицы А (равный 2, т.к. \n",
    "# все строки линейно зависимы) меньше ранга расширенной матрицы (равен 3)). Для того, \n",
    "# чтобы система стала совместной, необходимо изменить вектор В.\n",
    "\n",
    "B1 = np.array([12, 15, 18])\n",
    "print(np.linalg.solve(A, B1))  \n",
    "#1 из бесконечного числа решений"
   ]
  },
  {
   "cell_type": "markdown",
   "id": "f1934c26",
   "metadata": {},
   "source": [
    "#### Задание 4"
   ]
  },
  {
   "cell_type": "code",
   "execution_count": 63,
   "id": "df88d53d",
   "metadata": {
    "scrolled": true
   },
   "outputs": [
    {
     "name": "stdout",
     "output_type": "stream",
     "text": [
      "P = [[0. 1. 0.]\n",
      " [0. 0. 1.]\n",
      " [1. 0. 0.]]\n",
      "L = [[ 1.    0.    0.  ]\n",
      " [ 0.25  1.    0.  ]\n",
      " [ 0.5  -0.4   1.  ]]\n",
      "U = [[  4.    28.    73.  ]\n",
      " [  0.    -5.   -15.25]\n",
      " [  0.     0.   -21.6 ]]\n"
     ]
    },
    {
     "data": {
      "text/plain": [
       "array([ 2.30555556, -1.23611111,  0.38888889])"
      ]
     },
     "execution_count": 63,
     "metadata": {},
     "output_type": "execute_result"
    }
   ],
   "source": [
    "A = np.array([[1, 2, 3], [2, 16, 21], [4, 28, 73]])\n",
    "P, L, U = scipy.linalg.lu(A)\n",
    "print(f'P = {P}\\nL = {L}\\nU = {U}')\n",
    "\n",
    "B = ([1, -7, 3])\n",
    "np.linalg.solve(A, B)"
   ]
  },
  {
   "cell_type": "markdown",
   "id": "b7d3f03b",
   "metadata": {},
   "source": [
    "#### Задание 5\n",
    "\n",
    "#### x + 2y – z = 1  \n",
    "#### 8x – 5y + 2z = 12"
   ]
  },
  {
   "cell_type": "code",
   "execution_count": 105,
   "id": "a067ca68",
   "metadata": {
    "scrolled": true
   },
   "outputs": [],
   "source": [
    "A = np.array([[1, 2, -1], [8, -5, 2]])\n",
    "B = np.array([1, 12])\n",
    "def Q(x, y, z):\n",
    "    return (x**2 + y**2 + z**2)"
   ]
  },
  {
   "cell_type": "code",
   "execution_count": 110,
   "id": "cae133dd",
   "metadata": {},
   "outputs": [
    {
     "data": {
      "image/png": "[encoded data removed]",
      "text/plain": [
       "<Figure size 432x288 with 1 Axes>"
      ]
     },
     "metadata": {
      "needs_background": "light"
     },
     "output_type": "display_data"
    }
   ],
   "source": [
    "fig = plt.figure()\n",
    "ax = Axes3D(fig)\n",
    "\n",
    "x = np.linspace(-5, 5, 201)\n",
    "ax.plot(x, Q(x, 10*x - 14, 21*x - 29))\n",
    "ax.set_xlabel('x')\n",
    "ax.set_ylabel('y')\n",
    "ax.set_zlabel('z')\n",
    "plt.show()"
   ]
  },
  {
   "cell_type": "code",
   "execution_count": 104,
   "id": "324c38c4",
   "metadata": {
    "scrolled": false
   },
   "outputs": [
    {
     "name": "stdout",
     "output_type": "stream",
     "text": [
      "(array([ 1.38191882, -0.18081181,  0.0202952 ]), array([], dtype=float64), 2, array([9.65316119, 2.41173777]))\n"
     ]
    }
   ],
   "source": [
    "print(np.linalg.lstsq(A, B, rcond=None))"
   ]
  },
  {
   "cell_type": "code",
   "execution_count": 112,
   "id": "2f55b441",
   "metadata": {},
   "outputs": [
    {
     "data": {
      "image/png": "[encoded data removed]",
      "text/plain": [
       "<Figure size 432x288 with 1 Axes>"
      ]
     },
     "metadata": {
      "needs_background": "light"
     },
     "output_type": "display_data"
    }
   ],
   "source": [
    "fig = plt.figure()\n",
    "ax = Axes3D(fig)\n",
    "\n",
    "x = np.linspace(-5, 5, 201)\n",
    "ax.plot(x, 10*x - 14, 21*x - 29)\n",
    "ax.set_xlabel('x')\n",
    "ax.set_ylabel('y')\n",
    "ax.set_zlabel('z')\n",
    "\n",
    "# проверяю нормальное псевдорешение, найденное с помощью функции lstsq\n",
    "ax.scatter(1.382, -0.181, 0.0203,'z',50,'red', label='[ 1.38191882, -0.18081181,  0.0202952 ]') \n",
    "plt.legend(frameon=False)\n",
    "plt.show()"
   ]
  },
  {
   "cell_type": "markdown",
   "id": "2fa94a2d",
   "metadata": {},
   "source": [
    "#### Задание 6"
   ]
  },
  {
   "cell_type": "code",
   "execution_count": 114,
   "id": "426b3773",
   "metadata": {},
   "outputs": [
    {
     "name": "stdout",
     "output_type": "stream",
     "text": [
      "[[1 2 3]\n",
      " [4 5 6]\n",
      " [7 8 9]]\n",
      "[[-0.12309149  0.90453403  0.40824829]\n",
      " [-0.49236596  0.30151134 -0.81649658]\n",
      " [-0.86164044 -0.30151134  0.40824829]]\n",
      "[[-8.12403840e+00 -9.60113630e+00 -1.10782342e+01]\n",
      " [ 0.00000000e+00  9.04534034e-01  1.80906807e+00]\n",
      " [ 0.00000000e+00  0.00000000e+00 -1.77635684e-15]]\n"
     ]
    }
   ],
   "source": [
    "A = np.array([[1, 2, 3], [4, 5, 6], [7, 8, 9]])\n",
    "B = np.array([2, 5, 11])\n",
    "Q, R = np.linalg.qr(A)\n",
    "print(A, Q, R, sep='\\n')"
   ]
  },
  {
   "cell_type": "code",
   "execution_count": 81,
   "id": "41db191d",
   "metadata": {},
   "outputs": [
    {
     "name": "stdout",
     "output_type": "stream",
     "text": [
      "[[-8.1240384  -9.6011363 ]\n",
      " [ 0.          0.90453403]]\n",
      "[-1.21860576e+01  8.43769499e-15]\n"
     ]
    }
   ],
   "source": [
    "R1 = R[:2, :2]\n",
    "print(R1)\n",
    "\n",
    "B1 = np.dot(np.transpose(Q), B)[:2]\n",
    "print(B1)"
   ]
  },
  {
   "cell_type": "code",
   "execution_count": 74,
   "id": "4366c444",
   "metadata": {},
   "outputs": [
    {
     "name": "stdout",
     "output_type": "stream",
     "text": [
      "[1.50000000e+00 9.32822279e-15]\n"
     ]
    }
   ],
   "source": [
    "X1 = np.linalg.solve(R1, B1)\n",
    "print(X1)"
   ]
  },
  {
   "cell_type": "code",
   "execution_count": 82,
   "id": "f609ad26",
   "metadata": {},
   "outputs": [
    {
     "name": "stdout",
     "output_type": "stream",
     "text": [
      "[1.50000000e+00 9.32822279e-15 0.00000000e+00]\n"
     ]
    },
    {
     "data": {
      "text/plain": [
       "1.4999999999999896"
      ]
     },
     "execution_count": 82,
     "metadata": {},
     "output_type": "execute_result"
    }
   ],
   "source": [
    "X = np.append(X1, 0)\n",
    "print(X)  # нахождение одного из псевдорешений недоопределенной системы\n",
    "np.linalg.norm(X) # рассчет нормы найденного вектора"
   ]
  },
  {
   "cell_type": "code",
   "execution_count": 76,
   "id": "89a7d540",
   "metadata": {},
   "outputs": [
    {
     "data": {
      "text/plain": [
       "1.2247448713915894"
      ]
     },
     "execution_count": 76,
     "metadata": {},
     "output_type": "execute_result"
    }
   ],
   "source": [
    "np.linalg.norm(np.dot(A, X) - B) # рассчет нормы вектора невязки"
   ]
  },
  {
   "cell_type": "code",
   "execution_count": 116,
   "id": "1078b288",
   "metadata": {},
   "outputs": [
    {
     "name": "stdout",
     "output_type": "stream",
     "text": [
      "(array([ 1.25,  0.5 , -0.25]), array([], dtype=float64), 2, array([1.68481034e+01, 1.06836951e+00, 1.47280825e-16]))\n"
     ]
    }
   ],
   "source": [
    "# нахожу нормальное псевдорешение СЛАУ\n",
    "X2 = np.linalg.lstsq(A, B)\n",
    "print(X2)"
   ]
  },
  {
   "cell_type": "code",
   "execution_count": 118,
   "id": "afbb3dcd",
   "metadata": {},
   "outputs": [
    {
     "data": {
      "text/plain": [
       "(1.3693063937629153, 1.224744871391589)"
      ]
     },
     "execution_count": 118,
     "metadata": {},
     "output_type": "execute_result"
    }
   ],
   "source": [
    "X = np.array([1.25,  0.5 , -0.25])\n",
    "np.linalg.norm(X), np.linalg.norm(np.dot(A, X) - B)"
   ]
  }
 ],
 "metadata": {
  "kernelspec": {
   "display_name": "Python 3 (ipykernel)",
   "language": "python",
   "name": "python3"
  },
  "language_info": {
   "codemirror_mode": {
    "name": "ipython",
    "version": 3
   },
   "file_extension": ".py",
   "mimetype": "text/x-python",
   "name": "python",
   "nbconvert_exporter": "python",
   "pygments_lexer": "ipython3",
   "version": "3.9.12"
  }
 },
 "nbformat": 4,
 "nbformat_minor": 5
}
