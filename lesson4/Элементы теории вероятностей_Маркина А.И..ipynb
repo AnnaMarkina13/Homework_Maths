{
 "cells": [
  {
   "cell_type": "code",
   "execution_count": 62,
   "id": "07877ced",
   "metadata": {},
   "outputs": [],
   "source": [
    "%matplotlib inline\n",
    "import numpy as np\n",
    "import matplotlib.pyplot as plt\n",
    "import math\n",
    "import itertools"
   ]
  },
  {
   "cell_type": "code",
   "execution_count": 23,
   "id": "9a8b846b",
   "metadata": {},
   "outputs": [
    {
     "name": "stdout",
     "output_type": "stream",
     "text": [
      "Нажмите \"enter\"\n",
      "Выпало 26 (черное)!\n",
      "Нажмите \"enter\"\n",
      "Выпало 26 (черное)!\n",
      "Нажмите \"enter\"\n",
      "Выпало 24 (черное)!\n",
      "Нажмите \"enter\"\n",
      "Выпало 33 (черное)!\n",
      "Нажмите \"enter\"\n",
      "Выпало 29 (черное)!\n"
     ]
    }
   ],
   "source": [
    "#Задание_1\n",
    "\n",
    "\n",
    "for i in range(0, 5):\n",
    "    a = input('Нажмите \"enter\"')\n",
    "    x = np.random.randint(0, 37)\n",
    "    if x == 0:\n",
    "        print('Выпало зеро!')\n",
    "    elif (x<=10 and x%2==0) or (10<x<18 and x%2==1) or (19<x<29 and x%2==0) or (x>28 and x % 2 == 1):\n",
    "        print(f'Выпало {x} (черное)!')\n",
    "    else:\n",
    "        print(f'Выпало {x} (красное)!')"
   ]
  },
  {
   "cell_type": "code",
   "execution_count": 28,
   "id": "36cd34ea",
   "metadata": {},
   "outputs": [
    {
     "name": "stdout",
     "output_type": "stream",
     "text": [
      "Вероятность выпадения четного числа составляет: 0.486852\n",
      "Вероятность выпадения нечетного числа составляет: 0.486116\n",
      "Вероятность выпадения зеро составляет: 0.027032\n",
      "Сумма всех трех вероятностей составляет: 1.0\n"
     ]
    }
   ],
   "source": [
    "#Задание_2_1\n",
    "\n",
    "even = 0\n",
    "odd = 0\n",
    "zero = 0\n",
    "repeats = 1_000_000\n",
    "for i in range(repeats):\n",
    "    x = np.random.randint(0, 37)\n",
    "    if x == 0:\n",
    "        zero += 1\n",
    "    elif x % 2 == 0:\n",
    "        even += 1\n",
    "    else:\n",
    "        odd += 1\n",
    "print(f'Вероятность выпадения четного числа составляет: {even / repeats}')\n",
    "print(f'Вероятность выпадения нечетного числа составляет: {odd / repeats}')\n",
    "print(f'Вероятность выпадения зеро составляет: {zero / repeats}')\n",
    "print(f'Сумма всех трех вероятностей составляет: {even / repeats + odd / repeats + zero / repeats}')"
   ]
  },
  {
   "cell_type": "code",
   "execution_count": 46,
   "id": "5d10ea52",
   "metadata": {},
   "outputs": [
    {
     "data": {
      "text/plain": [
       "Text(0.5, 1.0, 'Histogram')"
      ]
     },
     "execution_count": 46,
     "metadata": {},
     "output_type": "execute_result"
    },
    {
     "data": {
      "image/png": "[encoded data removed]",
      "text/plain": [
       "<Figure size 432x288 with 1 Axes>"
      ]
     },
     "metadata": {
      "needs_background": "light"
     },
     "output_type": "display_data"
    }
   ],
   "source": [
    "#Задание_2_2\n",
    "\n",
    "x_sum = []\n",
    "for i in range(10):\n",
    "    x = np.random.rand(10)\n",
    "    x_sum.append(sum(x))\n",
    "\n",
    "plt.hist(x_sum, bins=5, color='pink')\n",
    "plt.ylabel('Probability')\n",
    "plt.xlabel('x')\n",
    "plt.title('Histogram')"
   ]
  },
  {
   "cell_type": "code",
   "execution_count": 59,
   "id": "28b82e2f",
   "metadata": {
    "scrolled": true
   },
   "outputs": [
    {
     "name": "stdout",
     "output_type": "stream",
     "text": [
      "Вероятность, рассчитанная методом Монте-Карло, равна: 0.3753\n",
      "Вероятность, рассчитанная по формуле Бернулли, равна: 0.375\n"
     ]
    }
   ],
   "source": [
    "#Задание_3_1\n",
    "\n",
    "k, n = 0, 10000\n",
    "a = np.random.randint(0, 2, n)\n",
    "b = np.random.randint(0, 2, n)\n",
    "c = np.random.randint(0, 2, n)\n",
    "d = np.random.randint(0, 2, n)\n",
    "x = a + b + c + d\n",
    "\n",
    "for i in range(n):\n",
    "    if x[i] == 2:\n",
    "        k += 1\n",
    "print(f'Вероятность, рассчитанная методом Монте-Карло, равна: {k/n}')\n",
    "\n",
    "c = math.factorial(4) / (math.factorial(2) * math.factorial(4-2))\n",
    "p = c * 0.5**2 * 0.5**2 # p = c/2^n, p = 6/2^4 = 0,375\n",
    "print(f'Вероятность, рассчитанная по формуле Бернулли, равна: {p}')"
   ]
  },
  {
   "cell_type": "code",
   "execution_count": 61,
   "id": "1c68a983",
   "metadata": {},
   "outputs": [
    {
     "name": "stdout",
     "output_type": "stream",
     "text": [
      "Вероятность, рассчитанная методом Монте-Карло, равна: 0.2354\n",
      "Вероятность, рассчитанная по формуле Бернулли, равна: 0.234375\n"
     ]
    }
   ],
   "source": [
    "#Задание_3_2\n",
    "\n",
    "k, n = 0, 10000\n",
    "a = np.random.randint(0, 2, n)\n",
    "b = np.random.randint(0, 2, n)\n",
    "c = np.random.randint(0, 2, n)\n",
    "d = np.random.randint(0, 2, n)\n",
    "e = np.random.randint(0, 2, n)\n",
    "f = np.random.randint(0, 2, n)\n",
    "x = a + b + c + d + e + f\n",
    "\n",
    "for i in range(n):\n",
    "    if x[i] == 4:\n",
    "        k += 1\n",
    "print(f'Вероятность, рассчитанная методом Монте-Карло, равна: {k/n}')\n",
    "\n",
    "c = math.factorial(6) / (math.factorial(4) * math.factorial(6-4))\n",
    "p = c * 0.5**4 * 0.5**2 # p = c/2^n, p = 15/2^6 = 0,234375\n",
    "print(f'Вероятность, рассчитанная по формуле Бернулли, равна: {p}')"
   ]
  },
  {
   "cell_type": "code",
   "execution_count": 70,
   "id": "bc788ef0",
   "metadata": {
    "scrolled": true
   },
   "outputs": [
    {
     "name": "stdout",
     "output_type": "stream",
     "text": [
      "012  013  014  021  023  024  031  032  034  041  042  043  102  103  104  120  123  124  130  132  134  140  142  143  201  203  204  210  213  214  230  231  234  240  241  243  301  302  304  310  312  314  320  321  324  340  341  342  401  402  403  410  412  413  420  421  423  430  431  432  "
     ]
    }
   ],
   "source": [
    "#Задание_4\n",
    "\n",
    "for p in itertools.permutations('01234', 3):\n",
    "    print(''.join(str(x) for x in p), end='  ')"
   ]
  },
  {
   "cell_type": "code",
   "execution_count": 71,
   "id": "b85069c9",
   "metadata": {},
   "outputs": [
    {
     "name": "stdout",
     "output_type": "stream",
     "text": [
      "0123  0124  0125  0134  0135  0145  0234  0235  0245  0345  1234  1235  1245  1345  2345  "
     ]
    }
   ],
   "source": [
    "for p in itertools.combinations('012345', 4):\n",
    "    print(''.join(p), end='  ')"
   ]
  },
  {
   "cell_type": "code",
   "execution_count": 83,
   "id": "73e7283e",
   "metadata": {},
   "outputs": [
    {
     "name": "stdout",
     "output_type": "stream",
     "text": [
      "0.6476714346988246 0.16407936407650608\n",
      "Рассчитанные по формулам a и b: 0.6476714346988247, 0.16407936407650583\n",
      "[[1.         0.90160608]\n",
      " [0.90160608 1.        ]]\n",
      "Рассчитанный по формуле коэффициент корелляции: 0.9016060764238675\n"
     ]
    },
    {
     "data": {
      "image/png": "[encoded data removed]",
      "text/plain": [
       "<Figure size 432x288 with 1 Axes>"
      ]
     },
     "metadata": {
      "needs_background": "light"
     },
     "output_type": "display_data"
    }
   ],
   "source": [
    "#Задание_5\n",
    "\n",
    "np.warnings.filterwarnings('ignore')\n",
    "\n",
    "n = 100\n",
    "r = 0.7\n",
    "x = np.random.rand(n)\n",
    "y = r*x + (1 - r)*np.random.rand(n)\n",
    "plt.plot(x, y, 'o')\n",
    "plt.xlabel('x')\n",
    "plt.ylabel('y')\n",
    "plt.grid(True)\n",
    "\n",
    "a = (np.sum(x)*np.sum(y) - n*np.sum(x*y))/(np.sum(x)*np.sum(x) - n*np.sum(x*x))\n",
    "b = (np.sum(y) - a*np.sum(x))/n\n",
    "\n",
    "A = np.vstack([x, np.ones(len(x))]).T\n",
    "a1, b1 = np.linalg.lstsq(A, y)[0]\n",
    "c = np.corrcoef(x, y)\n",
    "\n",
    "r1 = np.sum((x - sum(x) / n) * (y - sum(y) / n)) / np.sqrt(np.sum((x - sum(x) / n) ** 2) \n",
    "    * np.sum((y - sum(y) / n) ** 2))\n",
    "\n",
    "print(a, b)\n",
    "print(f'Рассчитанные по формулам a и b: {a1}, {b1}')\n",
    "print(c)\n",
    "print(f'Рассчитанный по формуле коэффициент корелляции: {r1}')\n",
    "                                                           \n",
    "plt.plot([0, 1], [b, a + b])\n",
    "plt.show()"
   ]
  }
 ],
 "metadata": {
  "kernelspec": {
   "display_name": "Python 3 (ipykernel)",
   "language": "python",
   "name": "python3"
  },
  "language_info": {
   "codemirror_mode": {
    "name": "ipython",
    "version": 3
   },
   "file_extension": ".py",
   "mimetype": "text/x-python",
   "name": "python",
   "nbconvert_exporter": "python",
   "pygments_lexer": "ipython3",
   "version": "3.9.12"
  }
 },
 "nbformat": 4,
 "nbformat_minor": 5
}
